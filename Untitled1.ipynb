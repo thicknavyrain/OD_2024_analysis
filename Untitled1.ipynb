{
 "cells": [
  {
   "cell_type": "code",
   "execution_count": 3,
   "id": "4d7c5a75-603a-4a6d-b8ce-17a85e7d9c28",
   "metadata": {},
   "outputs": [],
   "source": [
    "import pandas as pd\n",
    "import numpy as np \n",
    "# Generate the data again\n",
    "np.random.seed(42)\n",
    "num_data_points = 100\n",
    "course_duration = np.random.uniform(1, 20, num_data_points)\n",
    "words_learned = np.log(course_duration) * 100 + np.random.normal(0, 10, num_data_points)\n",
    "words_learned = np.clip(np.round(words_learned), 0, None)  # Ensure words learned are non-negative\n",
    "\n",
    "# Create a new DataFrame\n",
    "data_words = pd.DataFrame({\n",
    "    'Course Duration (weeks)': course_duration,\n",
    "    'Croatian Words Learned': words_learned\n",
    "})\n",
    "\n",
    "# Save the DataFrame to a CSV file\n",
    "csv_file_path = './course_duration_words_learned.csv'\n",
    "data_words.to_csv(csv_file_path, index=False)\n"
   ]
  },
  {
   "cell_type": "code",
   "execution_count": null,
   "id": "63723b23-8d24-4210-8193-3d8e98aa8d68",
   "metadata": {},
   "outputs": [],
   "source": []
  }
 ],
 "metadata": {
  "kernelspec": {
   "display_name": "Python 3 (ipykernel)",
   "language": "python",
   "name": "python3"
  },
  "language_info": {
   "codemirror_mode": {
    "name": "ipython",
    "version": 3
   },
   "file_extension": ".py",
   "mimetype": "text/x-python",
   "name": "python",
   "nbconvert_exporter": "python",
   "pygments_lexer": "ipython3",
   "version": "3.11.6"
  }
 },
 "nbformat": 4,
 "nbformat_minor": 5
}
