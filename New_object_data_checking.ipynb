{
 "cells": [
  {
   "cell_type": "code",
   "execution_count": 1,
   "id": "a80268b1-ffb4-40de-a31b-fe72ef5484df",
   "metadata": {},
   "outputs": [],
   "source": [
    "import pandas as pd"
   ]
  },
  {
   "cell_type": "code",
   "execution_count": 4,
   "id": "6f43f3f5-dc77-42a0-ae43-6ac782256120",
   "metadata": {},
   "outputs": [
    {
     "name": "stdout",
     "output_type": "stream",
     "text": [
      "Index(['directory', 'image_name', 'datetime', 'date', 'site_id', 'camera_name',\n",
      "       'animal_counts', 'bicycle_counts', 'bowl_counts', 'bus_counts',\n",
      "       'car_counts', 'debris_counts', 'food_counts', 'lorry_counts',\n",
      "       'loudspeaker_counts', 'motorcycle_counts', 'person_counts',\n",
      "       'stall_counts', 'stove_counts', 'taxi_counts', 'trash_counts',\n",
      "       'trotro_counts', 'truck_counts', 'umbrella_counts', 'van_counts',\n",
      "       'vendor_counts'],\n",
      "      dtype='object')\n",
      "5707544\n"
     ]
    }
   ],
   "source": [
    "# object_data_1 = pd.read_csv('./2024_Mar_ob_count.csv')\n",
    "print(object_data_1.columns)\n",
    "print(len(object_data_1))"
   ]
  },
  {
   "cell_type": "code",
   "execution_count": 5,
   "id": "349c89d8-7125-41f3-8730-7344f00fada4",
   "metadata": {},
   "outputs": [
    {
     "name": "stdout",
     "output_type": "stream",
     "text": [
      "Index(['directory_name_rectified', 'site_id_cam_angle', 'view', 'image_name',\n",
      "       'datetime_rectified', 'date_rectified', 'animal_counts',\n",
      "       'bicycle_counts', 'bowl_counts', 'bus_counts', 'car_counts',\n",
      "       'debris_counts', 'food_counts', 'lorry_counts', 'loudspeaker_counts',\n",
      "       'motorcycle_counts', 'person_counts', 'stall_counts', 'stove_counts',\n",
      "       'taxi_counts', 'trash_counts', 'trotro_counts', 'truck_counts',\n",
      "       'umbrella_counts', 'van_counts', 'vendor_counts',\n",
      "       'directory_name_original', 'datetime_original'],\n",
      "      dtype='object')\n",
      "6896313\n"
     ]
    }
   ],
   "source": [
    "object_data_2 = pd.read_csv('./2024_Jul_ob_count.csv')\n",
    "print(object_data_2.columns)\n",
    "print(len(object_data_2))"
   ]
  },
  {
   "cell_type": "code",
   "execution_count": 8,
   "id": "fed87603-f291-4e4a-8263-bd20c840d5ca",
   "metadata": {},
   "outputs": [
    {
     "name": "stdout",
     "output_type": "stream",
     "text": [
      "['directory_name_rectified', 'site_id_cam_angle', 'view', 'datetime_rectified', 'date_rectified', 'directory_name_original', 'datetime_original']\n"
     ]
    }
   ],
   "source": [
    "column_diff = [column for column in object_data_2.columns if column not in object_data_1.columns]\n",
    "print(column_diff)"
   ]
  },
  {
   "cell_type": "code",
   "execution_count": 9,
   "id": "6ec0881a-2490-4137-a35d-56cf9207b47c",
   "metadata": {},
   "outputs": [
    {
     "data": {
      "text/html": [
       "<div>\n",
       "<style scoped>\n",
       "    .dataframe tbody tr th:only-of-type {\n",
       "        vertical-align: middle;\n",
       "    }\n",
       "\n",
       "    .dataframe tbody tr th {\n",
       "        vertical-align: top;\n",
       "    }\n",
       "\n",
       "    .dataframe thead th {\n",
       "        text-align: right;\n",
       "    }\n",
       "</style>\n",
       "<table border=\"1\" class=\"dataframe\">\n",
       "  <thead>\n",
       "    <tr style=\"text-align: right;\">\n",
       "      <th></th>\n",
       "      <th>directory_name_rectified</th>\n",
       "      <th>site_id_cam_angle</th>\n",
       "      <th>view</th>\n",
       "      <th>image_name</th>\n",
       "      <th>datetime_rectified</th>\n",
       "      <th>date_rectified</th>\n",
       "      <th>animal_counts</th>\n",
       "      <th>bicycle_counts</th>\n",
       "      <th>bowl_counts</th>\n",
       "      <th>bus_counts</th>\n",
       "      <th>...</th>\n",
       "      <th>stove_counts</th>\n",
       "      <th>taxi_counts</th>\n",
       "      <th>trash_counts</th>\n",
       "      <th>trotro_counts</th>\n",
       "      <th>truck_counts</th>\n",
       "      <th>umbrella_counts</th>\n",
       "      <th>van_counts</th>\n",
       "      <th>vendor_counts</th>\n",
       "      <th>directory_name_original</th>\n",
       "      <th>datetime_original</th>\n",
       "    </tr>\n",
       "  </thead>\n",
       "  <tbody>\n",
       "    <tr>\n",
       "      <th>0</th>\n",
       "      <td>AD_01_03_2024_C22_S15</td>\n",
       "      <td>AD_right</td>\n",
       "      <td>clear</td>\n",
       "      <td>MFDC3070.JPG</td>\n",
       "      <td>2024-03-01 08:32:02</td>\n",
       "      <td>2024-03-01</td>\n",
       "      <td>0</td>\n",
       "      <td>0</td>\n",
       "      <td>0</td>\n",
       "      <td>0</td>\n",
       "      <td>...</td>\n",
       "      <td>0</td>\n",
       "      <td>1</td>\n",
       "      <td>1</td>\n",
       "      <td>0</td>\n",
       "      <td>0</td>\n",
       "      <td>0</td>\n",
       "      <td>0</td>\n",
       "      <td>0</td>\n",
       "      <td>AD_01_03_2024_C22_S15</td>\n",
       "      <td>2024-03-01 08:32:02</td>\n",
       "    </tr>\n",
       "    <tr>\n",
       "      <th>1</th>\n",
       "      <td>AD_01_03_2024_C22_S15</td>\n",
       "      <td>AD_right</td>\n",
       "      <td>clear</td>\n",
       "      <td>MFDC3071.JPG</td>\n",
       "      <td>2024-03-01 08:37:02</td>\n",
       "      <td>2024-03-01</td>\n",
       "      <td>0</td>\n",
       "      <td>1</td>\n",
       "      <td>0</td>\n",
       "      <td>0</td>\n",
       "      <td>...</td>\n",
       "      <td>0</td>\n",
       "      <td>0</td>\n",
       "      <td>1</td>\n",
       "      <td>1</td>\n",
       "      <td>0</td>\n",
       "      <td>0</td>\n",
       "      <td>0</td>\n",
       "      <td>0</td>\n",
       "      <td>AD_01_03_2024_C22_S15</td>\n",
       "      <td>2024-03-01 08:37:02</td>\n",
       "    </tr>\n",
       "    <tr>\n",
       "      <th>2</th>\n",
       "      <td>AD_01_03_2024_C22_S15</td>\n",
       "      <td>AD_right</td>\n",
       "      <td>clear</td>\n",
       "      <td>MFDC3072.JPG</td>\n",
       "      <td>2024-03-01 08:42:02</td>\n",
       "      <td>2024-03-01</td>\n",
       "      <td>0</td>\n",
       "      <td>0</td>\n",
       "      <td>0</td>\n",
       "      <td>0</td>\n",
       "      <td>...</td>\n",
       "      <td>0</td>\n",
       "      <td>1</td>\n",
       "      <td>2</td>\n",
       "      <td>1</td>\n",
       "      <td>0</td>\n",
       "      <td>0</td>\n",
       "      <td>0</td>\n",
       "      <td>0</td>\n",
       "      <td>AD_01_03_2024_C22_S15</td>\n",
       "      <td>2024-03-01 08:42:02</td>\n",
       "    </tr>\n",
       "    <tr>\n",
       "      <th>3</th>\n",
       "      <td>AD_01_03_2024_C22_S15</td>\n",
       "      <td>AD_right</td>\n",
       "      <td>clear</td>\n",
       "      <td>MFDC3073.JPG</td>\n",
       "      <td>2024-03-01 08:47:02</td>\n",
       "      <td>2024-03-01</td>\n",
       "      <td>0</td>\n",
       "      <td>0</td>\n",
       "      <td>0</td>\n",
       "      <td>0</td>\n",
       "      <td>...</td>\n",
       "      <td>0</td>\n",
       "      <td>2</td>\n",
       "      <td>1</td>\n",
       "      <td>2</td>\n",
       "      <td>1</td>\n",
       "      <td>0</td>\n",
       "      <td>1</td>\n",
       "      <td>0</td>\n",
       "      <td>AD_01_03_2024_C22_S15</td>\n",
       "      <td>2024-03-01 08:47:02</td>\n",
       "    </tr>\n",
       "    <tr>\n",
       "      <th>4</th>\n",
       "      <td>AD_01_03_2024_C22_S15</td>\n",
       "      <td>AD_right</td>\n",
       "      <td>clear</td>\n",
       "      <td>MFDC3074.JPG</td>\n",
       "      <td>2024-03-01 08:52:02</td>\n",
       "      <td>2024-03-01</td>\n",
       "      <td>0</td>\n",
       "      <td>0</td>\n",
       "      <td>0</td>\n",
       "      <td>0</td>\n",
       "      <td>...</td>\n",
       "      <td>0</td>\n",
       "      <td>0</td>\n",
       "      <td>0</td>\n",
       "      <td>0</td>\n",
       "      <td>1</td>\n",
       "      <td>0</td>\n",
       "      <td>0</td>\n",
       "      <td>0</td>\n",
       "      <td>AD_01_03_2024_C22_S15</td>\n",
       "      <td>2024-03-01 08:52:02</td>\n",
       "    </tr>\n",
       "  </tbody>\n",
       "</table>\n",
       "<p>5 rows × 28 columns</p>\n",
       "</div>"
      ],
      "text/plain": [
       "  directory_name_rectified site_id_cam_angle   view    image_name  \\\n",
       "0    AD_01_03_2024_C22_S15          AD_right  clear  MFDC3070.JPG   \n",
       "1    AD_01_03_2024_C22_S15          AD_right  clear  MFDC3071.JPG   \n",
       "2    AD_01_03_2024_C22_S15          AD_right  clear  MFDC3072.JPG   \n",
       "3    AD_01_03_2024_C22_S15          AD_right  clear  MFDC3073.JPG   \n",
       "4    AD_01_03_2024_C22_S15          AD_right  clear  MFDC3074.JPG   \n",
       "\n",
       "    datetime_rectified date_rectified  animal_counts  bicycle_counts  \\\n",
       "0  2024-03-01 08:32:02     2024-03-01              0               0   \n",
       "1  2024-03-01 08:37:02     2024-03-01              0               1   \n",
       "2  2024-03-01 08:42:02     2024-03-01              0               0   \n",
       "3  2024-03-01 08:47:02     2024-03-01              0               0   \n",
       "4  2024-03-01 08:52:02     2024-03-01              0               0   \n",
       "\n",
       "   bowl_counts  bus_counts  ...  stove_counts  taxi_counts  trash_counts  \\\n",
       "0            0           0  ...             0            1             1   \n",
       "1            0           0  ...             0            0             1   \n",
       "2            0           0  ...             0            1             2   \n",
       "3            0           0  ...             0            2             1   \n",
       "4            0           0  ...             0            0             0   \n",
       "\n",
       "   trotro_counts  truck_counts  umbrella_counts  van_counts  vendor_counts  \\\n",
       "0              0             0                0           0              0   \n",
       "1              1             0                0           0              0   \n",
       "2              1             0                0           0              0   \n",
       "3              2             1                0           1              0   \n",
       "4              0             1                0           0              0   \n",
       "\n",
       "   directory_name_original    datetime_original  \n",
       "0    AD_01_03_2024_C22_S15  2024-03-01 08:32:02  \n",
       "1    AD_01_03_2024_C22_S15  2024-03-01 08:37:02  \n",
       "2    AD_01_03_2024_C22_S15  2024-03-01 08:42:02  \n",
       "3    AD_01_03_2024_C22_S15  2024-03-01 08:47:02  \n",
       "4    AD_01_03_2024_C22_S15  2024-03-01 08:52:02  \n",
       "\n",
       "[5 rows x 28 columns]"
      ]
     },
     "execution_count": 9,
     "metadata": {},
     "output_type": "execute_result"
    }
   ],
   "source": [
    "object_data_2.head()"
   ]
  },
  {
   "cell_type": "code",
   "execution_count": 10,
   "id": "d33bbbae-e6a6-4cd3-aee3-1cf10cf5c749",
   "metadata": {},
   "outputs": [
    {
     "data": {
      "text/plain": [
       "view\n",
       "clear       6603926\n",
       "occluded     292387\n",
       "Name: count, dtype: int64"
      ]
     },
     "execution_count": 10,
     "metadata": {},
     "output_type": "execute_result"
    }
   ],
   "source": [
    "object_data_2['view'].value_counts()"
   ]
  },
  {
   "cell_type": "code",
   "execution_count": 11,
   "id": "3a641f18-bef5-48d0-87d2-c5709c0dcc60",
   "metadata": {},
   "outputs": [
    {
     "name": "stdout",
     "output_type": "stream",
     "text": [
      "['directory', 'datetime', 'date', 'site_id', 'camera_name']\n"
     ]
    }
   ],
   "source": [
    "column_diff = [column for column in object_data_1.columns if column not in object_data_2.columns]\n",
    "print(column_diff)"
   ]
  },
  {
   "cell_type": "code",
   "execution_count": 13,
   "id": "5611ab69-6983-479e-8324-b9d8b7ca6fa3",
   "metadata": {},
   "outputs": [
    {
     "data": {
      "text/plain": [
       "array(['AD_right', 'AD_left', 'TMW_right', 'ASH', 'EL_left', 'EL_right',\n",
       "       'N1W_left', 'N1W_right', 'TMW_left', 'JT', 'LA', 'NM_right',\n",
       "       'NM_left', 'TF_right', 'TF_left', 'UGH_right', 'UGH_left'],\n",
       "      dtype=object)"
      ]
     },
     "execution_count": 13,
     "metadata": {},
     "output_type": "execute_result"
    }
   ],
   "source": [
    "object_data_2['site_id_cam_angle'].unique()"
   ]
  },
  {
   "cell_type": "code",
   "execution_count": null,
   "id": "d7e92989-19e7-4cc4-aecd-43f81435e368",
   "metadata": {},
   "outputs": [],
   "source": []
  }
 ],
 "metadata": {
  "kernelspec": {
   "display_name": "Python 3 (ipykernel)",
   "language": "python",
   "name": "python3"
  },
  "language_info": {
   "codemirror_mode": {
    "name": "ipython",
    "version": 3
   },
   "file_extension": ".py",
   "mimetype": "text/x-python",
   "name": "python",
   "nbconvert_exporter": "python",
   "pygments_lexer": "ipython3",
   "version": "3.11.6"
  }
 },
 "nbformat": 4,
 "nbformat_minor": 5
}
