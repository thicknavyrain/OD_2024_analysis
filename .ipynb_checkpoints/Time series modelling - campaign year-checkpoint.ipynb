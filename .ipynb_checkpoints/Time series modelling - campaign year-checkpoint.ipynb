{
 "cells": [
  {
   "cell_type": "code",
   "execution_count": 3,
   "id": "1e779be0-ee53-458a-ab25-e716796a3e4e",
   "metadata": {},
   "outputs": [
    {
     "data": {
      "application/vnd.jupyter.widget-view+json": {
       "model_id": "b8eac18cbb4e4f0d8c7b038287c7e75e",
       "version_major": 2,
       "version_minor": 0
      },
      "text/plain": [
       "  0%|          | 0/351584 [00:00<?, ?it/s]"
      ]
     },
     "metadata": {},
     "output_type": "display_data"
    }
   ],
   "source": [
    "import pandas as pd\n",
    "from datetime import datetime, timedelta\n",
    "# from tqdm import tqdm\n",
    "from tqdm.auto import tqdm\n",
    "\n",
    "# Load your CSV file\n",
    "df = pd.read_csv('hourly_averages_v3.csv')\n",
    "\n",
    "# Define the start of the year as April 10, 2019\n",
    "start_year = 2019\n",
    "start_day = 10\n",
    "start_month = 4\n",
    "\n",
    "# Function to calculate if a year is a leap year\n",
    "def is_leap_year(year):\n",
    "    if (year % 4 == 0 and year % 100 != 0) or (year % 400 == 0):\n",
    "        return True\n",
    "    return False\n",
    "\n",
    "# Function to calculate the new \"year\" and \"week\" based on the adjusted year starting on April 10th\n",
    "def redefine_year_week(row):\n",
    "    # Get the datetime object for this row\n",
    "    dt = datetime.strptime(row['datetime'], '%Y-%m-%d %H:%M:%S')\n",
    "    \n",
    "    # Calculate the new year based on 10th April as the start of the year\n",
    "    year_start = datetime(start_year, start_month, start_day)\n",
    "    \n",
    "    # Increment year_start by 1 year until we find the correct \"year\" for this row, accounting for leap years\n",
    "    year_count = 1\n",
    "    while dt >= year_start:\n",
    "        # Calculate the number of days in the current year (365 or 366 for leap years)\n",
    "        days_in_year = 366 if is_leap_year(year_start.year) else 365\n",
    "        if dt >= year_start + timedelta(days=days_in_year):\n",
    "            year_start = year_start + timedelta(days=days_in_year)\n",
    "            year_count += 1\n",
    "        else:\n",
    "            break\n",
    "    \n",
    "    # Find the week number within this new year system, starting from the first full Monday\n",
    "    week_1_start = year_start - timedelta(days=(year_start.weekday() - 0) % 7)  # Adjust to first Monday\n",
    "    \n",
    "    if dt >= week_1_start:\n",
    "        week_number = (dt - week_1_start).days // 7 + 1\n",
    "    else:\n",
    "        week_number = 1\n",
    "    \n",
    "    return pd.Series({'new_year': year_count, 'new_week': week_number})\n",
    "\n",
    "tqdm.pandas()\n",
    "\n",
    "# Apply the function to each row to calculate the new year and week\n",
    "df[['new_year', 'new_week']] = df.progress_apply(redefine_year_week, axis=1)\n",
    "\n",
    "# Drop the old \"year\" and \"week\" columns and rename the new ones\n",
    "df.drop(columns=['year', 'week'], inplace=True)\n",
    "df.rename(columns={'new_year': 'year', 'new_week': 'week'}, inplace=True)\n",
    "\n",
    "# Save the updated dataframe to a new CSV file\n",
    "df.to_csv('hourly_averages_v3_campaign_year.csv', index=False)\n"
   ]
  },
  {
   "cell_type": "code",
   "execution_count": null,
   "id": "b5fa9061-0af6-4d21-8000-772c33e0042b",
   "metadata": {},
   "outputs": [],
   "source": []
  }
 ],
 "metadata": {
  "kernelspec": {
   "display_name": "Python 3 (ipykernel)",
   "language": "python",
   "name": "python3"
  },
  "language_info": {
   "codemirror_mode": {
    "name": "ipython",
    "version": 3
   },
   "file_extension": ".py",
   "mimetype": "text/x-python",
   "name": "python",
   "nbconvert_exporter": "python",
   "pygments_lexer": "ipython3",
   "version": "3.11.6"
  }
 },
 "nbformat": 4,
 "nbformat_minor": 5
}
